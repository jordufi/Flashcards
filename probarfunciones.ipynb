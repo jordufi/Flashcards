{
 "cells": [
  {
   "cell_type": "code",
   "execution_count": 15,
   "metadata": {},
   "outputs": [
    {
     "name": "stdout",
     "output_type": "stream",
     "text": [
      "3\n",
      "3\n",
      "3\n",
      "1\n",
      "3\n",
      "1\n",
      "2\n",
      "2\n",
      "3\n",
      "2\n"
     ]
    }
   ],
   "source": [
    "import random\n",
    "for e in range(10):\n",
    "    print(random.randint(1, 3))"
   ]
  },
  {
   "cell_type": "code",
   "execution_count": 4,
   "metadata": {},
   "outputs": [
    {
     "name": "stdout",
     "output_type": "stream",
     "text": [
      "3\n"
     ]
    }
   ],
   "source": [
    "flashcards = [\n",
    "    {\"pregunta\": \"F:/programacion/flashcards/images/NotasPentagrama/Do.png\", \"respuesta\": \"F:/programacion/flashcards/images/NotasPentagrama/R_Do.png\"},\n",
    "    {\"pregunta\": \"F:/programacion/flashcards/images/NotasPentagrama/Re.png\", \"respuesta\": \"F:/programacion/flashcards/images/NotasPentagrama/R_Re.png\"},\n",
    "    {\"pregunta\": \"F:/programacion/flashcards/images/NotasPentagrama/Mi.png\", \"respuesta\": \"F:/programacion/flashcards/images/NotasPentagrama/R_Mi.png\"},\n",
    "]\n",
    "print(len(flashcards))"
   ]
  },
  {
   "cell_type": "code",
   "execution_count": null,
   "metadata": {},
   "outputs": [],
   "source": []
  }
 ],
 "metadata": {
  "kernelspec": {
   "display_name": "Python 3",
   "language": "python",
   "name": "python3"
  },
  "language_info": {
   "codemirror_mode": {
    "name": "ipython",
    "version": 3
   },
   "file_extension": ".py",
   "mimetype": "text/x-python",
   "name": "python",
   "nbconvert_exporter": "python",
   "pygments_lexer": "ipython3",
   "version": "3.10.0"
  },
  "orig_nbformat": 4
 },
 "nbformat": 4,
 "nbformat_minor": 2
}
